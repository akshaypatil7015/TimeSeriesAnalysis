{
 "cells": [
  {
   "cell_type": "code",
   "execution_count": 1,
   "id": "9ba53f1b",
   "metadata": {
    "_cell_guid": "b1076dfc-b9ad-4769-8c92-a6c4dae69d19",
    "_uuid": "8f2839f25d086af736a60e9eeb907d3b93b6e0e5",
    "execution": {
     "iopub.execute_input": "2024-05-23T07:58:56.997381Z",
     "iopub.status.busy": "2024-05-23T07:58:56.996996Z",
     "iopub.status.idle": "2024-05-23T07:58:57.982313Z",
     "shell.execute_reply": "2024-05-23T07:58:57.981125Z"
    },
    "papermill": {
     "duration": 0.999983,
     "end_time": "2024-05-23T07:58:57.985103",
     "exception": false,
     "start_time": "2024-05-23T07:58:56.985120",
     "status": "completed"
    },
    "tags": []
   },
   "outputs": [
    {
     "name": "stdout",
     "output_type": "stream",
     "text": [
      "/kaggle/input/sales-forecasting/train.csv\n"
     ]
    }
   ],
   "source": [
    "# This Python 3 environment comes with many helpful analytics libraries installed\n",
    "# It is defined by the kaggle/python Docker image: https://github.com/kaggle/docker-python\n",
    "# For example, here's several helpful packages to load\n",
    "\n",
    "import numpy as np # linear algebra\n",
    "import pandas as pd # data processing, CSV file I/O (e.g. pd.read_csv)\n",
    "import matplotlib.pyplot as plt\n",
    "\n",
    "# Input data files are available in the read-only \"../input/\" directory\n",
    "# For example, running this (by clicking run or pressing Shift+Enter) will list all files under the input directory\n",
    "\n",
    "import os\n",
    "for dirname, _, filenames in os.walk('/kaggle/input'):\n",
    "    for filename in filenames:\n",
    "        print(os.path.join(dirname, filename))\n",
    "\n",
    "# You can write up to 20GB to the current directory (/kaggle/working/) that gets preserved as output when you create a version using \"Save & Run All\" \n",
    "# You can also write temporary files to /kaggle/temp/, but they won't be saved outside of the current session"
   ]
  },
  {
   "cell_type": "code",
   "execution_count": 2,
   "id": "991c5eda",
   "metadata": {
    "execution": {
     "iopub.execute_input": "2024-05-23T07:58:58.007234Z",
     "iopub.status.busy": "2024-05-23T07:58:58.006739Z",
     "iopub.status.idle": "2024-05-23T07:58:58.138407Z",
     "shell.execute_reply": "2024-05-23T07:58:58.137304Z"
    },
    "papermill": {
     "duration": 0.145307,
     "end_time": "2024-05-23T07:58:58.140871",
     "exception": false,
     "start_time": "2024-05-23T07:58:57.995564",
     "status": "completed"
    },
    "tags": []
   },
   "outputs": [
    {
     "data": {
      "text/html": [
       "<div>\n",
       "<style scoped>\n",
       "    .dataframe tbody tr th:only-of-type {\n",
       "        vertical-align: middle;\n",
       "    }\n",
       "\n",
       "    .dataframe tbody tr th {\n",
       "        vertical-align: top;\n",
       "    }\n",
       "\n",
       "    .dataframe thead th {\n",
       "        text-align: right;\n",
       "    }\n",
       "</style>\n",
       "<table border=\"1\" class=\"dataframe\">\n",
       "  <thead>\n",
       "    <tr style=\"text-align: right;\">\n",
       "      <th></th>\n",
       "      <th>Row ID</th>\n",
       "      <th>Order ID</th>\n",
       "      <th>Order Date</th>\n",
       "      <th>Ship Date</th>\n",
       "      <th>Ship Mode</th>\n",
       "      <th>Customer ID</th>\n",
       "      <th>Customer Name</th>\n",
       "      <th>Segment</th>\n",
       "      <th>Country</th>\n",
       "      <th>City</th>\n",
       "      <th>State</th>\n",
       "      <th>Postal Code</th>\n",
       "      <th>Region</th>\n",
       "      <th>Product ID</th>\n",
       "      <th>Category</th>\n",
       "      <th>Sub-Category</th>\n",
       "      <th>Product Name</th>\n",
       "      <th>Sales</th>\n",
       "    </tr>\n",
       "  </thead>\n",
       "  <tbody>\n",
       "    <tr>\n",
       "      <th>0</th>\n",
       "      <td>1</td>\n",
       "      <td>CA-2017-152156</td>\n",
       "      <td>08/11/2017</td>\n",
       "      <td>11/11/2017</td>\n",
       "      <td>Second Class</td>\n",
       "      <td>CG-12520</td>\n",
       "      <td>Claire Gute</td>\n",
       "      <td>Consumer</td>\n",
       "      <td>United States</td>\n",
       "      <td>Henderson</td>\n",
       "      <td>Kentucky</td>\n",
       "      <td>42420.0</td>\n",
       "      <td>South</td>\n",
       "      <td>FUR-BO-10001798</td>\n",
       "      <td>Furniture</td>\n",
       "      <td>Bookcases</td>\n",
       "      <td>Bush Somerset Collection Bookcase</td>\n",
       "      <td>261.9600</td>\n",
       "    </tr>\n",
       "    <tr>\n",
       "      <th>1</th>\n",
       "      <td>2</td>\n",
       "      <td>CA-2017-152156</td>\n",
       "      <td>08/11/2017</td>\n",
       "      <td>11/11/2017</td>\n",
       "      <td>Second Class</td>\n",
       "      <td>CG-12520</td>\n",
       "      <td>Claire Gute</td>\n",
       "      <td>Consumer</td>\n",
       "      <td>United States</td>\n",
       "      <td>Henderson</td>\n",
       "      <td>Kentucky</td>\n",
       "      <td>42420.0</td>\n",
       "      <td>South</td>\n",
       "      <td>FUR-CH-10000454</td>\n",
       "      <td>Furniture</td>\n",
       "      <td>Chairs</td>\n",
       "      <td>Hon Deluxe Fabric Upholstered Stacking Chairs,...</td>\n",
       "      <td>731.9400</td>\n",
       "    </tr>\n",
       "    <tr>\n",
       "      <th>2</th>\n",
       "      <td>3</td>\n",
       "      <td>CA-2017-138688</td>\n",
       "      <td>12/06/2017</td>\n",
       "      <td>16/06/2017</td>\n",
       "      <td>Second Class</td>\n",
       "      <td>DV-13045</td>\n",
       "      <td>Darrin Van Huff</td>\n",
       "      <td>Corporate</td>\n",
       "      <td>United States</td>\n",
       "      <td>Los Angeles</td>\n",
       "      <td>California</td>\n",
       "      <td>90036.0</td>\n",
       "      <td>West</td>\n",
       "      <td>OFF-LA-10000240</td>\n",
       "      <td>Office Supplies</td>\n",
       "      <td>Labels</td>\n",
       "      <td>Self-Adhesive Address Labels for Typewriters b...</td>\n",
       "      <td>14.6200</td>\n",
       "    </tr>\n",
       "    <tr>\n",
       "      <th>3</th>\n",
       "      <td>4</td>\n",
       "      <td>US-2016-108966</td>\n",
       "      <td>11/10/2016</td>\n",
       "      <td>18/10/2016</td>\n",
       "      <td>Standard Class</td>\n",
       "      <td>SO-20335</td>\n",
       "      <td>Sean O'Donnell</td>\n",
       "      <td>Consumer</td>\n",
       "      <td>United States</td>\n",
       "      <td>Fort Lauderdale</td>\n",
       "      <td>Florida</td>\n",
       "      <td>33311.0</td>\n",
       "      <td>South</td>\n",
       "      <td>FUR-TA-10000577</td>\n",
       "      <td>Furniture</td>\n",
       "      <td>Tables</td>\n",
       "      <td>Bretford CR4500 Series Slim Rectangular Table</td>\n",
       "      <td>957.5775</td>\n",
       "    </tr>\n",
       "    <tr>\n",
       "      <th>4</th>\n",
       "      <td>5</td>\n",
       "      <td>US-2016-108966</td>\n",
       "      <td>11/10/2016</td>\n",
       "      <td>18/10/2016</td>\n",
       "      <td>Standard Class</td>\n",
       "      <td>SO-20335</td>\n",
       "      <td>Sean O'Donnell</td>\n",
       "      <td>Consumer</td>\n",
       "      <td>United States</td>\n",
       "      <td>Fort Lauderdale</td>\n",
       "      <td>Florida</td>\n",
       "      <td>33311.0</td>\n",
       "      <td>South</td>\n",
       "      <td>OFF-ST-10000760</td>\n",
       "      <td>Office Supplies</td>\n",
       "      <td>Storage</td>\n",
       "      <td>Eldon Fold 'N Roll Cart System</td>\n",
       "      <td>22.3680</td>\n",
       "    </tr>\n",
       "  </tbody>\n",
       "</table>\n",
       "</div>"
      ],
      "text/plain": [
       "   Row ID        Order ID  Order Date   Ship Date       Ship Mode Customer ID  \\\n",
       "0       1  CA-2017-152156  08/11/2017  11/11/2017    Second Class    CG-12520   \n",
       "1       2  CA-2017-152156  08/11/2017  11/11/2017    Second Class    CG-12520   \n",
       "2       3  CA-2017-138688  12/06/2017  16/06/2017    Second Class    DV-13045   \n",
       "3       4  US-2016-108966  11/10/2016  18/10/2016  Standard Class    SO-20335   \n",
       "4       5  US-2016-108966  11/10/2016  18/10/2016  Standard Class    SO-20335   \n",
       "\n",
       "     Customer Name    Segment        Country             City       State  \\\n",
       "0      Claire Gute   Consumer  United States        Henderson    Kentucky   \n",
       "1      Claire Gute   Consumer  United States        Henderson    Kentucky   \n",
       "2  Darrin Van Huff  Corporate  United States      Los Angeles  California   \n",
       "3   Sean O'Donnell   Consumer  United States  Fort Lauderdale     Florida   \n",
       "4   Sean O'Donnell   Consumer  United States  Fort Lauderdale     Florida   \n",
       "\n",
       "   Postal Code Region       Product ID         Category Sub-Category  \\\n",
       "0      42420.0  South  FUR-BO-10001798        Furniture    Bookcases   \n",
       "1      42420.0  South  FUR-CH-10000454        Furniture       Chairs   \n",
       "2      90036.0   West  OFF-LA-10000240  Office Supplies       Labels   \n",
       "3      33311.0  South  FUR-TA-10000577        Furniture       Tables   \n",
       "4      33311.0  South  OFF-ST-10000760  Office Supplies      Storage   \n",
       "\n",
       "                                        Product Name     Sales  \n",
       "0                  Bush Somerset Collection Bookcase  261.9600  \n",
       "1  Hon Deluxe Fabric Upholstered Stacking Chairs,...  731.9400  \n",
       "2  Self-Adhesive Address Labels for Typewriters b...   14.6200  \n",
       "3      Bretford CR4500 Series Slim Rectangular Table  957.5775  \n",
       "4                     Eldon Fold 'N Roll Cart System   22.3680  "
      ]
     },
     "execution_count": 2,
     "metadata": {},
     "output_type": "execute_result"
    }
   ],
   "source": [
    "df=pd.read_csv('/kaggle/input/sales-forecasting/train.csv')\n",
    "df.head()"
   ]
  },
  {
   "cell_type": "code",
   "execution_count": 3,
   "id": "60db8289",
   "metadata": {
    "execution": {
     "iopub.execute_input": "2024-05-23T07:58:58.163046Z",
     "iopub.status.busy": "2024-05-23T07:58:58.162663Z",
     "iopub.status.idle": "2024-05-23T07:58:58.188917Z",
     "shell.execute_reply": "2024-05-23T07:58:58.187975Z"
    },
    "papermill": {
     "duration": 0.040465,
     "end_time": "2024-05-23T07:58:58.191511",
     "exception": false,
     "start_time": "2024-05-23T07:58:58.151046",
     "status": "completed"
    },
    "tags": []
   },
   "outputs": [
    {
     "data": {
      "text/html": [
       "<div>\n",
       "<style scoped>\n",
       "    .dataframe tbody tr th:only-of-type {\n",
       "        vertical-align: middle;\n",
       "    }\n",
       "\n",
       "    .dataframe tbody tr th {\n",
       "        vertical-align: top;\n",
       "    }\n",
       "\n",
       "    .dataframe thead th {\n",
       "        text-align: right;\n",
       "    }\n",
       "</style>\n",
       "<table border=\"1\" class=\"dataframe\">\n",
       "  <thead>\n",
       "    <tr style=\"text-align: right;\">\n",
       "      <th></th>\n",
       "      <th>Order ID</th>\n",
       "      <th>Order Date</th>\n",
       "      <th>Ship Mode</th>\n",
       "      <th>Customer ID</th>\n",
       "      <th>Segment</th>\n",
       "      <th>Country</th>\n",
       "      <th>City</th>\n",
       "      <th>State</th>\n",
       "      <th>Region</th>\n",
       "      <th>Product ID</th>\n",
       "      <th>Category</th>\n",
       "      <th>Sub-Category</th>\n",
       "      <th>Product Name</th>\n",
       "      <th>Sales</th>\n",
       "    </tr>\n",
       "  </thead>\n",
       "  <tbody>\n",
       "    <tr>\n",
       "      <th>0</th>\n",
       "      <td>CA-2017-152156</td>\n",
       "      <td>08/11/2017</td>\n",
       "      <td>Second Class</td>\n",
       "      <td>CG-12520</td>\n",
       "      <td>Consumer</td>\n",
       "      <td>United States</td>\n",
       "      <td>Henderson</td>\n",
       "      <td>Kentucky</td>\n",
       "      <td>South</td>\n",
       "      <td>FUR-BO-10001798</td>\n",
       "      <td>Furniture</td>\n",
       "      <td>Bookcases</td>\n",
       "      <td>Bush Somerset Collection Bookcase</td>\n",
       "      <td>261.9600</td>\n",
       "    </tr>\n",
       "    <tr>\n",
       "      <th>1</th>\n",
       "      <td>CA-2017-152156</td>\n",
       "      <td>08/11/2017</td>\n",
       "      <td>Second Class</td>\n",
       "      <td>CG-12520</td>\n",
       "      <td>Consumer</td>\n",
       "      <td>United States</td>\n",
       "      <td>Henderson</td>\n",
       "      <td>Kentucky</td>\n",
       "      <td>South</td>\n",
       "      <td>FUR-CH-10000454</td>\n",
       "      <td>Furniture</td>\n",
       "      <td>Chairs</td>\n",
       "      <td>Hon Deluxe Fabric Upholstered Stacking Chairs,...</td>\n",
       "      <td>731.9400</td>\n",
       "    </tr>\n",
       "    <tr>\n",
       "      <th>2</th>\n",
       "      <td>CA-2017-138688</td>\n",
       "      <td>12/06/2017</td>\n",
       "      <td>Second Class</td>\n",
       "      <td>DV-13045</td>\n",
       "      <td>Corporate</td>\n",
       "      <td>United States</td>\n",
       "      <td>Los Angeles</td>\n",
       "      <td>California</td>\n",
       "      <td>West</td>\n",
       "      <td>OFF-LA-10000240</td>\n",
       "      <td>Office Supplies</td>\n",
       "      <td>Labels</td>\n",
       "      <td>Self-Adhesive Address Labels for Typewriters b...</td>\n",
       "      <td>14.6200</td>\n",
       "    </tr>\n",
       "    <tr>\n",
       "      <th>3</th>\n",
       "      <td>US-2016-108966</td>\n",
       "      <td>11/10/2016</td>\n",
       "      <td>Standard Class</td>\n",
       "      <td>SO-20335</td>\n",
       "      <td>Consumer</td>\n",
       "      <td>United States</td>\n",
       "      <td>Fort Lauderdale</td>\n",
       "      <td>Florida</td>\n",
       "      <td>South</td>\n",
       "      <td>FUR-TA-10000577</td>\n",
       "      <td>Furniture</td>\n",
       "      <td>Tables</td>\n",
       "      <td>Bretford CR4500 Series Slim Rectangular Table</td>\n",
       "      <td>957.5775</td>\n",
       "    </tr>\n",
       "    <tr>\n",
       "      <th>4</th>\n",
       "      <td>US-2016-108966</td>\n",
       "      <td>11/10/2016</td>\n",
       "      <td>Standard Class</td>\n",
       "      <td>SO-20335</td>\n",
       "      <td>Consumer</td>\n",
       "      <td>United States</td>\n",
       "      <td>Fort Lauderdale</td>\n",
       "      <td>Florida</td>\n",
       "      <td>South</td>\n",
       "      <td>OFF-ST-10000760</td>\n",
       "      <td>Office Supplies</td>\n",
       "      <td>Storage</td>\n",
       "      <td>Eldon Fold 'N Roll Cart System</td>\n",
       "      <td>22.3680</td>\n",
       "    </tr>\n",
       "  </tbody>\n",
       "</table>\n",
       "</div>"
      ],
      "text/plain": [
       "         Order ID  Order Date       Ship Mode Customer ID    Segment  \\\n",
       "0  CA-2017-152156  08/11/2017    Second Class    CG-12520   Consumer   \n",
       "1  CA-2017-152156  08/11/2017    Second Class    CG-12520   Consumer   \n",
       "2  CA-2017-138688  12/06/2017    Second Class    DV-13045  Corporate   \n",
       "3  US-2016-108966  11/10/2016  Standard Class    SO-20335   Consumer   \n",
       "4  US-2016-108966  11/10/2016  Standard Class    SO-20335   Consumer   \n",
       "\n",
       "         Country             City       State Region       Product ID  \\\n",
       "0  United States        Henderson    Kentucky  South  FUR-BO-10001798   \n",
       "1  United States        Henderson    Kentucky  South  FUR-CH-10000454   \n",
       "2  United States      Los Angeles  California   West  OFF-LA-10000240   \n",
       "3  United States  Fort Lauderdale     Florida  South  FUR-TA-10000577   \n",
       "4  United States  Fort Lauderdale     Florida  South  OFF-ST-10000760   \n",
       "\n",
       "          Category Sub-Category  \\\n",
       "0        Furniture    Bookcases   \n",
       "1        Furniture       Chairs   \n",
       "2  Office Supplies       Labels   \n",
       "3        Furniture       Tables   \n",
       "4  Office Supplies      Storage   \n",
       "\n",
       "                                        Product Name     Sales  \n",
       "0                  Bush Somerset Collection Bookcase  261.9600  \n",
       "1  Hon Deluxe Fabric Upholstered Stacking Chairs,...  731.9400  \n",
       "2  Self-Adhesive Address Labels for Typewriters b...   14.6200  \n",
       "3      Bretford CR4500 Series Slim Rectangular Table  957.5775  \n",
       "4                     Eldon Fold 'N Roll Cart System   22.3680  "
      ]
     },
     "execution_count": 3,
     "metadata": {},
     "output_type": "execute_result"
    }
   ],
   "source": [
    "df.drop(['Row ID', 'Customer Name', 'Postal Code', 'Ship Date'], axis=1, inplace=True)\n",
    "df.head()"
   ]
  },
  {
   "cell_type": "code",
   "execution_count": 4,
   "id": "ecb27ae5",
   "metadata": {
    "execution": {
     "iopub.execute_input": "2024-05-23T07:58:58.215295Z",
     "iopub.status.busy": "2024-05-23T07:58:58.214384Z",
     "iopub.status.idle": "2024-05-23T07:58:58.219348Z",
     "shell.execute_reply": "2024-05-23T07:58:58.218574Z"
    },
    "papermill": {
     "duration": 0.019257,
     "end_time": "2024-05-23T07:58:58.221479",
     "exception": false,
     "start_time": "2024-05-23T07:58:58.202222",
     "status": "completed"
    },
    "tags": []
   },
   "outputs": [],
   "source": [
    "df.columns=df.columns.str.lower()"
   ]
  },
  {
   "cell_type": "code",
   "execution_count": 5,
   "id": "2896049a",
   "metadata": {
    "execution": {
     "iopub.execute_input": "2024-05-23T07:58:58.245414Z",
     "iopub.status.busy": "2024-05-23T07:58:58.244724Z",
     "iopub.status.idle": "2024-05-23T07:58:58.280008Z",
     "shell.execute_reply": "2024-05-23T07:58:58.279211Z"
    },
    "papermill": {
     "duration": 0.050102,
     "end_time": "2024-05-23T07:58:58.282485",
     "exception": false,
     "start_time": "2024-05-23T07:58:58.232383",
     "status": "completed"
    },
    "tags": []
   },
   "outputs": [
    {
     "name": "stdout",
     "output_type": "stream",
     "text": [
      "<class 'pandas.core.frame.DataFrame'>\n",
      "RangeIndex: 9800 entries, 0 to 9799\n",
      "Data columns (total 14 columns):\n",
      " #   Column        Non-Null Count  Dtype  \n",
      "---  ------        --------------  -----  \n",
      " 0   order id      9800 non-null   object \n",
      " 1   order date    9800 non-null   object \n",
      " 2   ship mode     9800 non-null   object \n",
      " 3   customer id   9800 non-null   object \n",
      " 4   segment       9800 non-null   object \n",
      " 5   country       9800 non-null   object \n",
      " 6   city          9800 non-null   object \n",
      " 7   state         9800 non-null   object \n",
      " 8   region        9800 non-null   object \n",
      " 9   product id    9800 non-null   object \n",
      " 10  category      9800 non-null   object \n",
      " 11  sub-category  9800 non-null   object \n",
      " 12  product name  9800 non-null   object \n",
      " 13  sales         9800 non-null   float64\n",
      "dtypes: float64(1), object(13)\n",
      "memory usage: 1.0+ MB\n"
     ]
    }
   ],
   "source": [
    "df.info()"
   ]
  },
  {
   "cell_type": "code",
   "execution_count": 6,
   "id": "780100d4",
   "metadata": {
    "execution": {
     "iopub.execute_input": "2024-05-23T07:58:58.307527Z",
     "iopub.status.busy": "2024-05-23T07:58:58.306927Z",
     "iopub.status.idle": "2024-05-23T07:58:58.328655Z",
     "shell.execute_reply": "2024-05-23T07:58:58.327784Z"
    },
    "papermill": {
     "duration": 0.037638,
     "end_time": "2024-05-23T07:58:58.330863",
     "exception": false,
     "start_time": "2024-05-23T07:58:58.293225",
     "status": "completed"
    },
    "tags": []
   },
   "outputs": [
    {
     "data": {
      "text/plain": [
       "order id        0\n",
       "order date      0\n",
       "ship mode       0\n",
       "customer id     0\n",
       "segment         0\n",
       "country         0\n",
       "city            0\n",
       "state           0\n",
       "region          0\n",
       "product id      0\n",
       "category        0\n",
       "sub-category    0\n",
       "product name    0\n",
       "sales           0\n",
       "dtype: int64"
      ]
     },
     "execution_count": 6,
     "metadata": {},
     "output_type": "execute_result"
    }
   ],
   "source": [
    "df.isna().sum()"
   ]
  },
  {
   "cell_type": "code",
   "execution_count": 7,
   "id": "e47e7d62",
   "metadata": {
    "execution": {
     "iopub.execute_input": "2024-05-23T07:58:58.355541Z",
     "iopub.status.busy": "2024-05-23T07:58:58.354945Z",
     "iopub.status.idle": "2024-05-23T07:59:03.956139Z",
     "shell.execute_reply": "2024-05-23T07:59:03.955199Z"
    },
    "papermill": {
     "duration": 5.616142,
     "end_time": "2024-05-23T07:59:03.958889",
     "exception": false,
     "start_time": "2024-05-23T07:58:58.342747",
     "status": "completed"
    },
    "tags": []
   },
   "outputs": [
    {
     "name": "stderr",
     "output_type": "stream",
     "text": [
      "/tmp/ipykernel_19/3355564926.py:1: UserWarning: Parsing dates in %d/%m/%Y format when dayfirst=False (the default) was specified. Pass `dayfirst=True` or specify a format to silence this warning.\n",
      "  df['order date'] = df['order date'].apply(pd.to_datetime)\n"
     ]
    }
   ],
   "source": [
    "df['order date'] = df['order date'].apply(pd.to_datetime)"
   ]
  },
  {
   "cell_type": "code",
   "execution_count": 8,
   "id": "3983e1e2",
   "metadata": {
    "execution": {
     "iopub.execute_input": "2024-05-23T07:59:03.987142Z",
     "iopub.status.busy": "2024-05-23T07:59:03.986572Z",
     "iopub.status.idle": "2024-05-23T07:59:04.019596Z",
     "shell.execute_reply": "2024-05-23T07:59:04.018112Z"
    },
    "papermill": {
     "duration": 0.050683,
     "end_time": "2024-05-23T07:59:04.023411",
     "exception": false,
     "start_time": "2024-05-23T07:59:03.972728",
     "status": "completed"
    },
    "tags": []
   },
   "outputs": [
    {
     "name": "stdout",
     "output_type": "stream",
     "text": [
      "<class 'pandas.core.frame.DataFrame'>\n",
      "RangeIndex: 9800 entries, 0 to 9799\n",
      "Data columns (total 14 columns):\n",
      " #   Column        Non-Null Count  Dtype         \n",
      "---  ------        --------------  -----         \n",
      " 0   order id      9800 non-null   object        \n",
      " 1   order date    9800 non-null   datetime64[ns]\n",
      " 2   ship mode     9800 non-null   object        \n",
      " 3   customer id   9800 non-null   object        \n",
      " 4   segment       9800 non-null   object        \n",
      " 5   country       9800 non-null   object        \n",
      " 6   city          9800 non-null   object        \n",
      " 7   state         9800 non-null   object        \n",
      " 8   region        9800 non-null   object        \n",
      " 9   product id    9800 non-null   object        \n",
      " 10  category      9800 non-null   object        \n",
      " 11  sub-category  9800 non-null   object        \n",
      " 12  product name  9800 non-null   object        \n",
      " 13  sales         9800 non-null   float64       \n",
      "dtypes: datetime64[ns](1), float64(1), object(12)\n",
      "memory usage: 1.0+ MB\n"
     ]
    }
   ],
   "source": [
    "df.info()"
   ]
  },
  {
   "cell_type": "code",
   "execution_count": 9,
   "id": "d63f7034",
   "metadata": {
    "execution": {
     "iopub.execute_input": "2024-05-23T07:59:04.054137Z",
     "iopub.status.busy": "2024-05-23T07:59:04.053342Z",
     "iopub.status.idle": "2024-05-23T07:59:04.092922Z",
     "shell.execute_reply": "2024-05-23T07:59:04.091772Z"
    },
    "papermill": {
     "duration": 0.059466,
     "end_time": "2024-05-23T07:59:04.097703",
     "exception": false,
     "start_time": "2024-05-23T07:59:04.038237",
     "status": "completed"
    },
    "tags": []
   },
   "outputs": [
    {
     "data": {
      "text/html": [
       "<div>\n",
       "<style scoped>\n",
       "    .dataframe tbody tr th:only-of-type {\n",
       "        vertical-align: middle;\n",
       "    }\n",
       "\n",
       "    .dataframe tbody tr th {\n",
       "        vertical-align: top;\n",
       "    }\n",
       "\n",
       "    .dataframe thead th {\n",
       "        text-align: right;\n",
       "    }\n",
       "</style>\n",
       "<table border=\"1\" class=\"dataframe\">\n",
       "  <thead>\n",
       "    <tr style=\"text-align: right;\">\n",
       "      <th></th>\n",
       "      <th>order id</th>\n",
       "      <th>ship mode</th>\n",
       "      <th>customer id</th>\n",
       "      <th>segment</th>\n",
       "      <th>country</th>\n",
       "      <th>city</th>\n",
       "      <th>state</th>\n",
       "      <th>region</th>\n",
       "      <th>product id</th>\n",
       "      <th>category</th>\n",
       "      <th>sub-category</th>\n",
       "      <th>product name</th>\n",
       "      <th>sales</th>\n",
       "    </tr>\n",
       "    <tr>\n",
       "      <th>order date</th>\n",
       "      <th></th>\n",
       "      <th></th>\n",
       "      <th></th>\n",
       "      <th></th>\n",
       "      <th></th>\n",
       "      <th></th>\n",
       "      <th></th>\n",
       "      <th></th>\n",
       "      <th></th>\n",
       "      <th></th>\n",
       "      <th></th>\n",
       "      <th></th>\n",
       "      <th></th>\n",
       "    </tr>\n",
       "  </thead>\n",
       "  <tbody>\n",
       "    <tr>\n",
       "      <th>2015-01-02</th>\n",
       "      <td>CA-2015-140795</td>\n",
       "      <td>First Class</td>\n",
       "      <td>BD-11500</td>\n",
       "      <td>Consumer</td>\n",
       "      <td>United States</td>\n",
       "      <td>Green Bay</td>\n",
       "      <td>Wisconsin</td>\n",
       "      <td>Central</td>\n",
       "      <td>TEC-AC-10001432</td>\n",
       "      <td>Technology</td>\n",
       "      <td>Accessories</td>\n",
       "      <td>Enermax Aurora Lite Keyboard</td>\n",
       "      <td>468.900</td>\n",
       "    </tr>\n",
       "    <tr>\n",
       "      <th>2015-01-03</th>\n",
       "      <td>US-2015-143707</td>\n",
       "      <td>Standard Class</td>\n",
       "      <td>HR-14770</td>\n",
       "      <td>Home Office</td>\n",
       "      <td>United States</td>\n",
       "      <td>New York City</td>\n",
       "      <td>New York</td>\n",
       "      <td>East</td>\n",
       "      <td>TEC-PH-10003655</td>\n",
       "      <td>Technology</td>\n",
       "      <td>Phones</td>\n",
       "      <td>Sannysis Cute Owl Design Soft Skin Case Cover ...</td>\n",
       "      <td>5.940</td>\n",
       "    </tr>\n",
       "    <tr>\n",
       "      <th>2015-01-03</th>\n",
       "      <td>CA-2015-104269</td>\n",
       "      <td>Second Class</td>\n",
       "      <td>DB-13060</td>\n",
       "      <td>Consumer</td>\n",
       "      <td>United States</td>\n",
       "      <td>Seattle</td>\n",
       "      <td>Washington</td>\n",
       "      <td>West</td>\n",
       "      <td>FUR-CH-10004063</td>\n",
       "      <td>Furniture</td>\n",
       "      <td>Chairs</td>\n",
       "      <td>Global Deluxe High-Back Manager's Chair</td>\n",
       "      <td>457.568</td>\n",
       "    </tr>\n",
       "    <tr>\n",
       "      <th>2015-01-03</th>\n",
       "      <td>CA-2015-113880</td>\n",
       "      <td>Standard Class</td>\n",
       "      <td>VF-21715</td>\n",
       "      <td>Home Office</td>\n",
       "      <td>United States</td>\n",
       "      <td>Elmhurst</td>\n",
       "      <td>Illinois</td>\n",
       "      <td>Central</td>\n",
       "      <td>OFF-PA-10003036</td>\n",
       "      <td>Office Supplies</td>\n",
       "      <td>Paper</td>\n",
       "      <td>Black Print Carbonless 8 1/2\" x 8 1/4\" Rapid M...</td>\n",
       "      <td>17.472</td>\n",
       "    </tr>\n",
       "    <tr>\n",
       "      <th>2015-01-03</th>\n",
       "      <td>CA-2015-131009</td>\n",
       "      <td>Standard Class</td>\n",
       "      <td>SC-20380</td>\n",
       "      <td>Consumer</td>\n",
       "      <td>United States</td>\n",
       "      <td>El Paso</td>\n",
       "      <td>Texas</td>\n",
       "      <td>Central</td>\n",
       "      <td>FUR-FU-10001095</td>\n",
       "      <td>Furniture</td>\n",
       "      <td>Furnishings</td>\n",
       "      <td>DAX Black Cherry Wood-Tone Poster Frame</td>\n",
       "      <td>63.552</td>\n",
       "    </tr>\n",
       "  </tbody>\n",
       "</table>\n",
       "</div>"
      ],
      "text/plain": [
       "                  order id       ship mode customer id      segment  \\\n",
       "order date                                                            \n",
       "2015-01-02  CA-2015-140795     First Class    BD-11500     Consumer   \n",
       "2015-01-03  US-2015-143707  Standard Class    HR-14770  Home Office   \n",
       "2015-01-03  CA-2015-104269    Second Class    DB-13060     Consumer   \n",
       "2015-01-03  CA-2015-113880  Standard Class    VF-21715  Home Office   \n",
       "2015-01-03  CA-2015-131009  Standard Class    SC-20380     Consumer   \n",
       "\n",
       "                  country           city       state   region  \\\n",
       "order date                                                      \n",
       "2015-01-02  United States      Green Bay   Wisconsin  Central   \n",
       "2015-01-03  United States  New York City    New York     East   \n",
       "2015-01-03  United States        Seattle  Washington     West   \n",
       "2015-01-03  United States       Elmhurst    Illinois  Central   \n",
       "2015-01-03  United States        El Paso       Texas  Central   \n",
       "\n",
       "                 product id         category sub-category  \\\n",
       "order date                                                  \n",
       "2015-01-02  TEC-AC-10001432       Technology  Accessories   \n",
       "2015-01-03  TEC-PH-10003655       Technology       Phones   \n",
       "2015-01-03  FUR-CH-10004063        Furniture       Chairs   \n",
       "2015-01-03  OFF-PA-10003036  Office Supplies        Paper   \n",
       "2015-01-03  FUR-FU-10001095        Furniture  Furnishings   \n",
       "\n",
       "                                                 product name    sales  \n",
       "order date                                                              \n",
       "2015-01-02                       Enermax Aurora Lite Keyboard  468.900  \n",
       "2015-01-03  Sannysis Cute Owl Design Soft Skin Case Cover ...    5.940  \n",
       "2015-01-03            Global Deluxe High-Back Manager's Chair  457.568  \n",
       "2015-01-03  Black Print Carbonless 8 1/2\" x 8 1/4\" Rapid M...   17.472  \n",
       "2015-01-03            DAX Black Cherry Wood-Tone Poster Frame   63.552  "
      ]
     },
     "execution_count": 9,
     "metadata": {},
     "output_type": "execute_result"
    }
   ],
   "source": [
    "df.sort_values(by='order date', ascending=True, inplace=True)\n",
    "df.set_index('order date', inplace=True)\n",
    "df.head()"
   ]
  },
  {
   "cell_type": "markdown",
   "id": "67fbed82",
   "metadata": {
    "papermill": {
     "duration": 0.012959,
     "end_time": "2024-05-23T07:59:04.126947",
     "exception": false,
     "start_time": "2024-05-23T07:59:04.113988",
     "status": "completed"
    },
    "tags": []
   },
   "source": [
    "# Total Sales Forecast"
   ]
  },
  {
   "cell_type": "code",
   "execution_count": 10,
   "id": "bd7e7c03",
   "metadata": {
    "execution": {
     "iopub.execute_input": "2024-05-23T07:59:04.152581Z",
     "iopub.status.busy": "2024-05-23T07:59:04.152218Z",
     "iopub.status.idle": "2024-05-23T07:59:04.179325Z",
     "shell.execute_reply": "2024-05-23T07:59:04.178062Z"
    },
    "papermill": {
     "duration": 0.042515,
     "end_time": "2024-05-23T07:59:04.181788",
     "exception": false,
     "start_time": "2024-05-23T07:59:04.139273",
     "status": "completed"
    },
    "tags": []
   },
   "outputs": [
    {
     "name": "stderr",
     "output_type": "stream",
     "text": [
      "/tmp/ipykernel_19/2449736451.py:2: FutureWarning: 'm' is deprecated and will be removed in a future version, please use 'ME' instead.\n",
      "  monthly_sales=total_sales.resample('m').sum()\n"
     ]
    },
    {
     "data": {
      "text/html": [
       "<div>\n",
       "<style scoped>\n",
       "    .dataframe tbody tr th:only-of-type {\n",
       "        vertical-align: middle;\n",
       "    }\n",
       "\n",
       "    .dataframe tbody tr th {\n",
       "        vertical-align: top;\n",
       "    }\n",
       "\n",
       "    .dataframe thead th {\n",
       "        text-align: right;\n",
       "    }\n",
       "</style>\n",
       "<table border=\"1\" class=\"dataframe\">\n",
       "  <thead>\n",
       "    <tr style=\"text-align: right;\">\n",
       "      <th></th>\n",
       "      <th>sales</th>\n",
       "    </tr>\n",
       "    <tr>\n",
       "      <th>order date</th>\n",
       "      <th></th>\n",
       "    </tr>\n",
       "  </thead>\n",
       "  <tbody>\n",
       "    <tr>\n",
       "      <th>2015-01-31</th>\n",
       "      <td>28828.254</td>\n",
       "    </tr>\n",
       "    <tr>\n",
       "      <th>2015-02-28</th>\n",
       "      <td>12588.484</td>\n",
       "    </tr>\n",
       "    <tr>\n",
       "      <th>2015-03-31</th>\n",
       "      <td>54027.692</td>\n",
       "    </tr>\n",
       "    <tr>\n",
       "      <th>2015-04-30</th>\n",
       "      <td>24710.016</td>\n",
       "    </tr>\n",
       "    <tr>\n",
       "      <th>2015-05-31</th>\n",
       "      <td>29520.490</td>\n",
       "    </tr>\n",
       "  </tbody>\n",
       "</table>\n",
       "</div>"
      ],
      "text/plain": [
       "                sales\n",
       "order date           \n",
       "2015-01-31  28828.254\n",
       "2015-02-28  12588.484\n",
       "2015-03-31  54027.692\n",
       "2015-04-30  24710.016\n",
       "2015-05-31  29520.490"
      ]
     },
     "execution_count": 10,
     "metadata": {},
     "output_type": "execute_result"
    }
   ],
   "source": [
    "total_sales=df[['sales']]\n",
    "monthly_sales=total_sales.resample('m').sum()\n",
    "monthly_sales.head()"
   ]
  },
  {
   "cell_type": "code",
   "execution_count": 11,
   "id": "448eec65",
   "metadata": {
    "execution": {
     "iopub.execute_input": "2024-05-23T07:59:04.208166Z",
     "iopub.status.busy": "2024-05-23T07:59:04.207646Z",
     "iopub.status.idle": "2024-05-23T07:59:04.810772Z",
     "shell.execute_reply": "2024-05-23T07:59:04.809876Z"
    },
    "papermill": {
     "duration": 0.62183,
     "end_time": "2024-05-23T07:59:04.815231",
     "exception": false,
     "start_time": "2024-05-23T07:59:04.193401",
     "status": "completed"
    },
    "tags": []
   },
   "outputs": [
    {
     "data": {
      "text/plain": [
       "<Axes: xlabel='order date'>"
      ]
     },
     "execution_count": 11,
     "metadata": {},
     "output_type": "execute_result"
    },
    {
     "data": {
      "image/png": "[encoded data removed]",
      "text/plain": [
       "<Figure size 1400x600 with 1 Axes>"
      ]
     },
     "metadata": {},
     "output_type": "display_data"
    }
   ],
   "source": [
    "monthly_sales['sales'].plot(figsize=(14,6))"
   ]
  },
  {
   "cell_type": "markdown",
   "id": "10337eed",
   "metadata": {
    "papermill": {
     "duration": 0.012849,
     "end_time": "2024-05-23T07:59:04.844979",
     "exception": false,
     "start_time": "2024-05-23T07:59:04.832130",
     "status": "completed"
    },
    "tags": []
   },
   "source": [
    "There is no seasonality but there is an increasing trend"
   ]
  },
  {
   "cell_type": "markdown",
   "id": "91aec556",
   "metadata": {
    "papermill": {
     "duration": 0.012636,
     "end_time": "2024-05-23T07:59:04.870996",
     "exception": false,
     "start_time": "2024-05-23T07:59:04.858360",
     "status": "completed"
    },
    "tags": []
   },
   "source": [
    "## Time series Models"
   ]
  },
  {
   "cell_type": "code",
   "execution_count": 12,
   "id": "fa33ba8c",
   "metadata": {
    "execution": {
     "iopub.execute_input": "2024-05-23T07:59:04.899337Z",
     "iopub.status.busy": "2024-05-23T07:59:04.898965Z",
     "iopub.status.idle": "2024-05-23T07:59:06.416142Z",
     "shell.execute_reply": "2024-05-23T07:59:06.414578Z"
    },
    "papermill": {
     "duration": 1.534008,
     "end_time": "2024-05-23T07:59:06.418504",
     "exception": false,
     "start_time": "2024-05-23T07:59:04.884496",
     "status": "completed"
    },
    "tags": []
   },
   "outputs": [
    {
     "name": "stdout",
     "output_type": "stream",
     "text": [
      "p-value: 0.6967631967119419\n",
      "we fail to reject the null hypothesis, Data is non-stationary\n"
     ]
    }
   ],
   "source": [
    "from statsmodels.tsa.stattools import adfuller\n",
    "ad_test=adfuller(monthly_sales['sales'])\n",
    "print(f'p-value: {ad_test[1]}')\n",
    "if ad_test[1] < 0.05:\n",
    "    print('we reject the null hypothesis, Data is stationary')\n",
    "else:\n",
    "    print('we fail to reject the null hypothesis, Data is non-stationary')"
   ]
  },
  {
   "cell_type": "code",
   "execution_count": 13,
   "id": "8a9043e1",
   "metadata": {
    "execution": {
     "iopub.execute_input": "2024-05-23T07:59:06.446578Z",
     "iopub.status.busy": "2024-05-23T07:59:06.446043Z",
     "iopub.status.idle": "2024-05-23T07:59:06.462028Z",
     "shell.execute_reply": "2024-05-23T07:59:06.460761Z"
    },
    "papermill": {
     "duration": 0.033311,
     "end_time": "2024-05-23T07:59:06.464793",
     "exception": false,
     "start_time": "2024-05-23T07:59:06.431482",
     "status": "completed"
    },
    "tags": []
   },
   "outputs": [
    {
     "data": {
      "text/html": [
       "<div>\n",
       "<style scoped>\n",
       "    .dataframe tbody tr th:only-of-type {\n",
       "        vertical-align: middle;\n",
       "    }\n",
       "\n",
       "    .dataframe tbody tr th {\n",
       "        vertical-align: top;\n",
       "    }\n",
       "\n",
       "    .dataframe thead th {\n",
       "        text-align: right;\n",
       "    }\n",
       "</style>\n",
       "<table border=\"1\" class=\"dataframe\">\n",
       "  <thead>\n",
       "    <tr style=\"text-align: right;\">\n",
       "      <th></th>\n",
       "      <th>sales</th>\n",
       "      <th>first_diff</th>\n",
       "      <th>seasonal_first_diff</th>\n",
       "    </tr>\n",
       "    <tr>\n",
       "      <th>order date</th>\n",
       "      <th></th>\n",
       "      <th></th>\n",
       "      <th></th>\n",
       "    </tr>\n",
       "  </thead>\n",
       "  <tbody>\n",
       "    <tr>\n",
       "      <th>2015-01-31</th>\n",
       "      <td>28828.254</td>\n",
       "      <td>NaN</td>\n",
       "      <td>NaN</td>\n",
       "    </tr>\n",
       "    <tr>\n",
       "      <th>2015-02-28</th>\n",
       "      <td>12588.484</td>\n",
       "      <td>-16239.770</td>\n",
       "      <td>NaN</td>\n",
       "    </tr>\n",
       "    <tr>\n",
       "      <th>2015-03-31</th>\n",
       "      <td>54027.692</td>\n",
       "      <td>41439.208</td>\n",
       "      <td>NaN</td>\n",
       "    </tr>\n",
       "    <tr>\n",
       "      <th>2015-04-30</th>\n",
       "      <td>24710.016</td>\n",
       "      <td>-29317.676</td>\n",
       "      <td>NaN</td>\n",
       "    </tr>\n",
       "    <tr>\n",
       "      <th>2015-05-31</th>\n",
       "      <td>29520.490</td>\n",
       "      <td>4810.474</td>\n",
       "      <td>NaN</td>\n",
       "    </tr>\n",
       "  </tbody>\n",
       "</table>\n",
       "</div>"
      ],
      "text/plain": [
       "                sales  first_diff  seasonal_first_diff\n",
       "order date                                            \n",
       "2015-01-31  28828.254         NaN                  NaN\n",
       "2015-02-28  12588.484  -16239.770                  NaN\n",
       "2015-03-31  54027.692   41439.208                  NaN\n",
       "2015-04-30  24710.016  -29317.676                  NaN\n",
       "2015-05-31  29520.490    4810.474                  NaN"
      ]
     },
     "execution_count": 13,
     "metadata": {},
     "output_type": "execute_result"
    }
   ],
   "source": [
    "monthly_sales['first_diff']= monthly_sales['sales'] - monthly_sales['sales'].shift(1)\n",
    "monthly_sales['seasonal_first_diff']= monthly_sales['sales'] - monthly_sales['sales'].shift(12)\n",
    "monthly_sales.head()"
   ]
  },
  {
   "cell_type": "code",
   "execution_count": 14,
   "id": "36173ef6",
   "metadata": {
    "execution": {
     "iopub.execute_input": "2024-05-23T07:59:06.493926Z",
     "iopub.status.busy": "2024-05-23T07:59:06.493091Z",
     "iopub.status.idle": "2024-05-23T07:59:06.506192Z",
     "shell.execute_reply": "2024-05-23T07:59:06.504846Z"
    },
    "papermill": {
     "duration": 0.030203,
     "end_time": "2024-05-23T07:59:06.508417",
     "exception": false,
     "start_time": "2024-05-23T07:59:06.478214",
     "status": "completed"
    },
    "tags": []
   },
   "outputs": [
    {
     "name": "stdout",
     "output_type": "stream",
     "text": [
      "p-value: 0.001532757823373631\n",
      "we reject the null hypothesis, Data is stationary\n"
     ]
    }
   ],
   "source": [
    "ad_test=adfuller(monthly_sales['first_diff'].dropna())\n",
    "print(f'p-value: {ad_test[1]}')\n",
    "if ad_test[1] < 0.05:\n",
    "    print('we reject the null hypothesis, Data is stationary')\n",
    "else:\n",
    "    print('we fail to reject the null hypothesis, Data is non-stationary')"
   ]
  },
  {
   "cell_type": "markdown",
   "id": "166ede3c",
   "metadata": {
    "papermill": {
     "duration": 0.013245,
     "end_time": "2024-05-23T07:59:06.535434",
     "exception": false,
     "start_time": "2024-05-23T07:59:06.522189",
     "status": "completed"
    },
    "tags": []
   },
   "source": [
    "here we get the d value for arima model as 1 as we the data becomes stationary after first order differencing"
   ]
  },
  {
   "cell_type": "code",
   "execution_count": 15,
   "id": "e0a88f42",
   "metadata": {
    "execution": {
     "iopub.execute_input": "2024-05-23T07:59:06.564560Z",
     "iopub.status.busy": "2024-05-23T07:59:06.563612Z",
     "iopub.status.idle": "2024-05-23T07:59:07.202117Z",
     "shell.execute_reply": "2024-05-23T07:59:07.201251Z"
    },
    "papermill": {
     "duration": 0.655071,
     "end_time": "2024-05-23T07:59:07.204152",
     "exception": false,
     "start_time": "2024-05-23T07:59:06.549081",
     "status": "completed"
    },
    "tags": []
   },
   "outputs": [
    {
     "data": {
      "image/png": "[encoded data removed]",
      "text/plain": [
       "<Figure size 1200x400 with 2 Axes>"
      ]
     },
     "metadata": {},
     "output_type": "display_data"
    }
   ],
   "source": [
    "from statsmodels.graphics.tsaplots import plot_acf, plot_pacf\n",
    "fig=plt.figure(figsize=(12,4))\n",
    "ax1=fig.add_subplot(121)\n",
    "fig=plot_acf(monthly_sales['seasonal_first_diff'].dropna(), lags=16, ax=ax1)\n",
    "ax2=fig.add_subplot(122)\n",
    "fig=plot_pacf(monthly_sales['seasonal_first_diff'].dropna(), lags=16, ax=ax2)"
   ]
  },
  {
   "cell_type": "markdown",
   "id": "ce4230e5",
   "metadata": {
    "papermill": {
     "duration": 0.013588,
     "end_time": "2024-05-23T07:59:07.231573",
     "exception": false,
     "start_time": "2024-05-23T07:59:07.217985",
     "status": "completed"
    },
    "tags": []
   },
   "source": [
    "here we get p and q values as 0,0"
   ]
  },
  {
   "cell_type": "code",
   "execution_count": 16,
   "id": "27d62bef",
   "metadata": {
    "execution": {
     "iopub.execute_input": "2024-05-23T07:59:07.260973Z",
     "iopub.status.busy": "2024-05-23T07:59:07.260545Z",
     "iopub.status.idle": "2024-05-23T07:59:07.267443Z",
     "shell.execute_reply": "2024-05-23T07:59:07.266415Z"
    },
    "papermill": {
     "duration": 0.024199,
     "end_time": "2024-05-23T07:59:07.269570",
     "exception": false,
     "start_time": "2024-05-23T07:59:07.245371",
     "status": "completed"
    },
    "tags": []
   },
   "outputs": [
    {
     "data": {
      "text/plain": [
       "(48, 3)"
      ]
     },
     "execution_count": 16,
     "metadata": {},
     "output_type": "execute_result"
    }
   ],
   "source": [
    "monthly_sales.shape"
   ]
  },
  {
   "cell_type": "code",
   "execution_count": 17,
   "id": "f44b15a0",
   "metadata": {
    "execution": {
     "iopub.execute_input": "2024-05-23T07:59:07.299753Z",
     "iopub.status.busy": "2024-05-23T07:59:07.299326Z",
     "iopub.status.idle": "2024-05-23T07:59:07.305238Z",
     "shell.execute_reply": "2024-05-23T07:59:07.304179Z"
    },
    "papermill": {
     "duration": 0.024268,
     "end_time": "2024-05-23T07:59:07.307731",
     "exception": false,
     "start_time": "2024-05-23T07:59:07.283463",
     "status": "completed"
    },
    "tags": []
   },
   "outputs": [],
   "source": [
    "X=monthly_sales[['sales']]\n",
    "X_train=X[:-7]"
   ]
  },
  {
   "cell_type": "code",
   "execution_count": 18,
   "id": "0c5376f7",
   "metadata": {
    "execution": {
     "iopub.execute_input": "2024-05-23T07:59:07.339517Z",
     "iopub.status.busy": "2024-05-23T07:59:07.338759Z",
     "iopub.status.idle": "2024-05-23T07:59:07.985229Z",
     "shell.execute_reply": "2024-05-23T07:59:07.983828Z"
    },
    "papermill": {
     "duration": 0.667552,
     "end_time": "2024-05-23T07:59:07.989845",
     "exception": false,
     "start_time": "2024-05-23T07:59:07.322293",
     "status": "completed"
    },
    "tags": []
   },
   "outputs": [
    {
     "name": "stderr",
     "output_type": "stream",
     "text": [
      "/opt/conda/lib/python3.10/site-packages/statsmodels/tsa/statespace/sarimax.py:866: UserWarning: Too few observations to estimate starting parameters for seasonal ARMA. All parameters except for variances will be set to zeros.\n",
      "  warn('Too few observations to estimate starting parameters%s.'\n",
      " This problem is unconstrained.\n"
     ]
    },
    {
     "name": "stdout",
     "output_type": "stream",
     "text": [
      "RUNNING THE L-BFGS-B CODE\n",
      "\n",
      "           * * *\n",
      "\n",
      "Machine precision = 2.220D-16\n",
      " N =            5     M =           10\n",
      "\n",
      "At X0         0 variables are exactly at the bounds\n",
      "\n",
      "At iterate    0    f=  8.19196D+00    |proj g|=  4.34701D-01\n",
      "\n",
      "At iterate    5    f=  8.03472D+00    |proj g|=  2.09545D-02\n",
      "\n",
      "At iterate   10    f=  8.02955D+00    |proj g|=  3.57337D-04\n",
      "\n",
      "           * * *\n",
      "\n",
      "Tit   = total number of iterations\n",
      "Tnf   = total number of function evaluations\n",
      "Tnint = total number of segments explored during Cauchy searches\n",
      "Skip  = number of BFGS updates skipped\n",
      "Nact  = number of active bounds at final generalized Cauchy point\n",
      "Projg = norm of the final projected gradient\n",
      "F     = final function value\n",
      "\n",
      "           * * *\n",
      "\n",
      "   N    Tit     Tnf  Tnint  Skip  Nact     Projg        F\n",
      "    5     12     13      1     0     0   1.887D-05   8.030D+00\n",
      "  F =   8.0295544803170760     \n",
      "\n",
      "CONVERGENCE: REL_REDUCTION_OF_F_<=_FACTR*EPSMCH             \n"
     ]
    }
   ],
   "source": [
    "from statsmodels.tsa.statespace.sarimax import SARIMAX\n",
    "sr_model = SARIMAX(monthly_sales['sales'],order=(1,1,1),seasonal_order=(1,1,1,12))\n",
    "fitted_model = sr_model.fit()"
   ]
  },
  {
   "cell_type": "code",
   "execution_count": 19,
   "id": "6ac832ee",
   "metadata": {
    "execution": {
     "iopub.execute_input": "2024-05-23T07:59:08.053219Z",
     "iopub.status.busy": "2024-05-23T07:59:08.052277Z",
     "iopub.status.idle": "2024-05-23T07:59:08.574764Z",
     "shell.execute_reply": "2024-05-23T07:59:08.573927Z"
    },
    "papermill": {
     "duration": 0.557486,
     "end_time": "2024-05-23T07:59:08.577528",
     "exception": false,
     "start_time": "2024-05-23T07:59:08.020042",
     "status": "completed"
    },
    "tags": []
   },
   "outputs": [
    {
     "data": {
      "text/plain": [
       "<Axes: xlabel='order date'>"
      ]
     },
     "execution_count": 19,
     "metadata": {},
     "output_type": "execute_result"
    },
    {
     "data": {
      "image/png": "[encoded data removed]",
      "text/plain": [
       "<Figure size 1200x600 with 1 Axes>"
      ]
     },
     "metadata": {},
     "output_type": "display_data"
    }
   ],
   "source": [
    "monthly_sales['forecast']=fitted_model.predict(start=-7, end=-1, dynamic=True)\n",
    "monthly_sales[['sales', 'forecast']].plot(figsize=[12,6])"
   ]
  },
  {
   "cell_type": "code",
   "execution_count": 20,
   "id": "af133953",
   "metadata": {
    "execution": {
     "iopub.execute_input": "2024-05-23T07:59:08.611193Z",
     "iopub.status.busy": "2024-05-23T07:59:08.610601Z",
     "iopub.status.idle": "2024-05-23T07:59:08.623311Z",
     "shell.execute_reply": "2024-05-23T07:59:08.622532Z"
    },
    "papermill": {
     "duration": 0.031781,
     "end_time": "2024-05-23T07:59:08.625308",
     "exception": false,
     "start_time": "2024-05-23T07:59:08.593527",
     "status": "completed"
    },
    "tags": []
   },
   "outputs": [
    {
     "data": {
      "text/html": [
       "<div>\n",
       "<style scoped>\n",
       "    .dataframe tbody tr th:only-of-type {\n",
       "        vertical-align: middle;\n",
       "    }\n",
       "\n",
       "    .dataframe tbody tr th {\n",
       "        vertical-align: top;\n",
       "    }\n",
       "\n",
       "    .dataframe thead th {\n",
       "        text-align: right;\n",
       "    }\n",
       "</style>\n",
       "<table border=\"1\" class=\"dataframe\">\n",
       "  <thead>\n",
       "    <tr style=\"text-align: right;\">\n",
       "      <th></th>\n",
       "      <th>sales</th>\n",
       "      <th>first_diff</th>\n",
       "      <th>seasonal_first_diff</th>\n",
       "      <th>forecast</th>\n",
       "    </tr>\n",
       "    <tr>\n",
       "      <th>order date</th>\n",
       "      <th></th>\n",
       "      <th></th>\n",
       "      <th></th>\n",
       "      <th></th>\n",
       "    </tr>\n",
       "  </thead>\n",
       "  <tbody>\n",
       "    <tr>\n",
       "      <th>2018-08-31</th>\n",
       "      <td>75408.7840</td>\n",
       "      <td>21466.0085</td>\n",
       "      <td>29641.9696</td>\n",
       "      <td>57127.659549</td>\n",
       "    </tr>\n",
       "    <tr>\n",
       "      <th>2018-09-30</th>\n",
       "      <td>73153.3640</td>\n",
       "      <td>-2255.4200</td>\n",
       "      <td>32461.0577</td>\n",
       "      <td>68008.024707</td>\n",
       "    </tr>\n",
       "    <tr>\n",
       "      <th>2018-10-31</th>\n",
       "      <td>65501.1622</td>\n",
       "      <td>-7652.2018</td>\n",
       "      <td>13344.2042</td>\n",
       "      <td>52565.073235</td>\n",
       "    </tr>\n",
       "    <tr>\n",
       "      <th>2018-11-30</th>\n",
       "      <td>87997.6400</td>\n",
       "      <td>22496.4778</td>\n",
       "      <td>21605.0930</td>\n",
       "      <td>69500.029244</td>\n",
       "    </tr>\n",
       "    <tr>\n",
       "      <th>2018-12-31</th>\n",
       "      <td>56959.2358</td>\n",
       "      <td>-31038.4042</td>\n",
       "      <td>-15887.8497</td>\n",
       "      <td>71795.881286</td>\n",
       "    </tr>\n",
       "  </tbody>\n",
       "</table>\n",
       "</div>"
      ],
      "text/plain": [
       "                 sales  first_diff  seasonal_first_diff      forecast\n",
       "order date                                                           \n",
       "2018-08-31  75408.7840  21466.0085           29641.9696  57127.659549\n",
       "2018-09-30  73153.3640  -2255.4200           32461.0577  68008.024707\n",
       "2018-10-31  65501.1622  -7652.2018           13344.2042  52565.073235\n",
       "2018-11-30  87997.6400  22496.4778           21605.0930  69500.029244\n",
       "2018-12-31  56959.2358 -31038.4042          -15887.8497  71795.881286"
      ]
     },
     "execution_count": 20,
     "metadata": {},
     "output_type": "execute_result"
    }
   ],
   "source": [
    "monthly_sales.tail()"
   ]
  },
  {
   "cell_type": "code",
   "execution_count": 21,
   "id": "13940994",
   "metadata": {
    "execution": {
     "iopub.execute_input": "2024-05-23T07:59:08.659870Z",
     "iopub.status.busy": "2024-05-23T07:59:08.659258Z",
     "iopub.status.idle": "2024-05-23T07:59:08.668611Z",
     "shell.execute_reply": "2024-05-23T07:59:08.667865Z"
    },
    "papermill": {
     "duration": 0.028996,
     "end_time": "2024-05-23T07:59:08.670641",
     "exception": false,
     "start_time": "2024-05-23T07:59:08.641645",
     "status": "completed"
    },
    "tags": []
   },
   "outputs": [
    {
     "data": {
      "text/html": [
       "<div>\n",
       "<style scoped>\n",
       "    .dataframe tbody tr th:only-of-type {\n",
       "        vertical-align: middle;\n",
       "    }\n",
       "\n",
       "    .dataframe tbody tr th {\n",
       "        vertical-align: top;\n",
       "    }\n",
       "\n",
       "    .dataframe thead th {\n",
       "        text-align: right;\n",
       "    }\n",
       "</style>\n",
       "<table border=\"1\" class=\"dataframe\">\n",
       "  <thead>\n",
       "    <tr style=\"text-align: right;\">\n",
       "      <th></th>\n",
       "      <th>date</th>\n",
       "    </tr>\n",
       "  </thead>\n",
       "  <tbody>\n",
       "    <tr>\n",
       "      <th>0</th>\n",
       "      <td>2019-01-31</td>\n",
       "    </tr>\n",
       "    <tr>\n",
       "      <th>1</th>\n",
       "      <td>2019-02-28</td>\n",
       "    </tr>\n",
       "    <tr>\n",
       "      <th>2</th>\n",
       "      <td>2019-03-31</td>\n",
       "    </tr>\n",
       "    <tr>\n",
       "      <th>3</th>\n",
       "      <td>2019-4-30</td>\n",
       "    </tr>\n",
       "    <tr>\n",
       "      <th>4</th>\n",
       "      <td>2019-05-31</td>\n",
       "    </tr>\n",
       "    <tr>\n",
       "      <th>5</th>\n",
       "      <td>2019-06-30</td>\n",
       "    </tr>\n",
       "    <tr>\n",
       "      <th>6</th>\n",
       "      <td>2019-07-31</td>\n",
       "    </tr>\n",
       "  </tbody>\n",
       "</table>\n",
       "</div>"
      ],
      "text/plain": [
       "         date\n",
       "0  2019-01-31\n",
       "1  2019-02-28\n",
       "2  2019-03-31\n",
       "3   2019-4-30\n",
       "4  2019-05-31\n",
       "5  2019-06-30\n",
       "6  2019-07-31"
      ]
     },
     "execution_count": 21,
     "metadata": {},
     "output_type": "execute_result"
    }
   ],
   "source": [
    "data={'date': ['2019-01-31', '2019-02-28','2019-03-31', '2019-4-30', '2019-05-31', '2019-06-30', '2019-07-31']}\n",
    "future_dates = pd.DataFrame(data)\n",
    "future_dates"
   ]
  },
  {
   "cell_type": "code",
   "execution_count": 22,
   "id": "5dd10035",
   "metadata": {
    "execution": {
     "iopub.execute_input": "2024-05-23T07:59:08.704938Z",
     "iopub.status.busy": "2024-05-23T07:59:08.704303Z",
     "iopub.status.idle": "2024-05-23T07:59:08.716715Z",
     "shell.execute_reply": "2024-05-23T07:59:08.715649Z"
    },
    "papermill": {
     "duration": 0.032168,
     "end_time": "2024-05-23T07:59:08.719045",
     "exception": false,
     "start_time": "2024-05-23T07:59:08.686877",
     "status": "completed"
    },
    "tags": []
   },
   "outputs": [
    {
     "data": {
      "text/html": [
       "<div>\n",
       "<style scoped>\n",
       "    .dataframe tbody tr th:only-of-type {\n",
       "        vertical-align: middle;\n",
       "    }\n",
       "\n",
       "    .dataframe tbody tr th {\n",
       "        vertical-align: top;\n",
       "    }\n",
       "\n",
       "    .dataframe thead th {\n",
       "        text-align: right;\n",
       "    }\n",
       "</style>\n",
       "<table border=\"1\" class=\"dataframe\">\n",
       "  <thead>\n",
       "    <tr style=\"text-align: right;\">\n",
       "      <th></th>\n",
       "    </tr>\n",
       "    <tr>\n",
       "      <th>datetime</th>\n",
       "    </tr>\n",
       "  </thead>\n",
       "  <tbody>\n",
       "    <tr>\n",
       "      <th>2019-01-31</th>\n",
       "    </tr>\n",
       "    <tr>\n",
       "      <th>2019-02-28</th>\n",
       "    </tr>\n",
       "    <tr>\n",
       "      <th>2019-03-31</th>\n",
       "    </tr>\n",
       "    <tr>\n",
       "      <th>2019-04-30</th>\n",
       "    </tr>\n",
       "    <tr>\n",
       "      <th>2019-05-31</th>\n",
       "    </tr>\n",
       "    <tr>\n",
       "      <th>2019-06-30</th>\n",
       "    </tr>\n",
       "    <tr>\n",
       "      <th>2019-07-31</th>\n",
       "    </tr>\n",
       "  </tbody>\n",
       "</table>\n",
       "</div>"
      ],
      "text/plain": [
       "Empty DataFrame\n",
       "Columns: []\n",
       "Index: [2019-01-31 00:00:00, 2019-02-28 00:00:00, 2019-03-31 00:00:00, 2019-04-30 00:00:00, 2019-05-31 00:00:00, 2019-06-30 00:00:00, 2019-07-31 00:00:00]"
      ]
     },
     "execution_count": 22,
     "metadata": {},
     "output_type": "execute_result"
    }
   ],
   "source": [
    "future_dates['datetime'] = future_dates['date'].astype('datetime64[ns]')\n",
    "future_dates.drop('date', axis=1, inplace= True)\n",
    "future_dates.set_index('datetime', inplace=True)\n",
    "future_dates"
   ]
  },
  {
   "cell_type": "code",
   "execution_count": 23,
   "id": "153dd956",
   "metadata": {
    "execution": {
     "iopub.execute_input": "2024-05-23T07:59:08.753644Z",
     "iopub.status.busy": "2024-05-23T07:59:08.753235Z",
     "iopub.status.idle": "2024-05-23T07:59:08.768921Z",
     "shell.execute_reply": "2024-05-23T07:59:08.768137Z"
    },
    "papermill": {
     "duration": 0.035563,
     "end_time": "2024-05-23T07:59:08.770955",
     "exception": false,
     "start_time": "2024-05-23T07:59:08.735392",
     "status": "completed"
    },
    "tags": []
   },
   "outputs": [
    {
     "data": {
      "text/html": [
       "<div>\n",
       "<style scoped>\n",
       "    .dataframe tbody tr th:only-of-type {\n",
       "        vertical-align: middle;\n",
       "    }\n",
       "\n",
       "    .dataframe tbody tr th {\n",
       "        vertical-align: top;\n",
       "    }\n",
       "\n",
       "    .dataframe thead th {\n",
       "        text-align: right;\n",
       "    }\n",
       "</style>\n",
       "<table border=\"1\" class=\"dataframe\">\n",
       "  <thead>\n",
       "    <tr style=\"text-align: right;\">\n",
       "      <th></th>\n",
       "      <th>sales</th>\n",
       "      <th>first_diff</th>\n",
       "      <th>seasonal_first_diff</th>\n",
       "      <th>forecast</th>\n",
       "    </tr>\n",
       "  </thead>\n",
       "  <tbody>\n",
       "    <tr>\n",
       "      <th>2018-10-31</th>\n",
       "      <td>65501.1622</td>\n",
       "      <td>-7652.2018</td>\n",
       "      <td>13344.2042</td>\n",
       "      <td>52565.073235</td>\n",
       "    </tr>\n",
       "    <tr>\n",
       "      <th>2018-11-30</th>\n",
       "      <td>87997.6400</td>\n",
       "      <td>22496.4778</td>\n",
       "      <td>21605.0930</td>\n",
       "      <td>69500.029244</td>\n",
       "    </tr>\n",
       "    <tr>\n",
       "      <th>2018-12-31</th>\n",
       "      <td>56959.2358</td>\n",
       "      <td>-31038.4042</td>\n",
       "      <td>-15887.8497</td>\n",
       "      <td>71795.881286</td>\n",
       "    </tr>\n",
       "    <tr>\n",
       "      <th>2019-01-31</th>\n",
       "      <td>NaN</td>\n",
       "      <td>NaN</td>\n",
       "      <td>NaN</td>\n",
       "      <td>NaN</td>\n",
       "    </tr>\n",
       "    <tr>\n",
       "      <th>2019-02-28</th>\n",
       "      <td>NaN</td>\n",
       "      <td>NaN</td>\n",
       "      <td>NaN</td>\n",
       "      <td>NaN</td>\n",
       "    </tr>\n",
       "    <tr>\n",
       "      <th>2019-03-31</th>\n",
       "      <td>NaN</td>\n",
       "      <td>NaN</td>\n",
       "      <td>NaN</td>\n",
       "      <td>NaN</td>\n",
       "    </tr>\n",
       "    <tr>\n",
       "      <th>2019-04-30</th>\n",
       "      <td>NaN</td>\n",
       "      <td>NaN</td>\n",
       "      <td>NaN</td>\n",
       "      <td>NaN</td>\n",
       "    </tr>\n",
       "    <tr>\n",
       "      <th>2019-05-31</th>\n",
       "      <td>NaN</td>\n",
       "      <td>NaN</td>\n",
       "      <td>NaN</td>\n",
       "      <td>NaN</td>\n",
       "    </tr>\n",
       "    <tr>\n",
       "      <th>2019-06-30</th>\n",
       "      <td>NaN</td>\n",
       "      <td>NaN</td>\n",
       "      <td>NaN</td>\n",
       "      <td>NaN</td>\n",
       "    </tr>\n",
       "    <tr>\n",
       "      <th>2019-07-31</th>\n",
       "      <td>NaN</td>\n",
       "      <td>NaN</td>\n",
       "      <td>NaN</td>\n",
       "      <td>NaN</td>\n",
       "    </tr>\n",
       "  </tbody>\n",
       "</table>\n",
       "</div>"
      ],
      "text/plain": [
       "                 sales  first_diff  seasonal_first_diff      forecast\n",
       "2018-10-31  65501.1622  -7652.2018           13344.2042  52565.073235\n",
       "2018-11-30  87997.6400  22496.4778           21605.0930  69500.029244\n",
       "2018-12-31  56959.2358 -31038.4042          -15887.8497  71795.881286\n",
       "2019-01-31         NaN         NaN                  NaN           NaN\n",
       "2019-02-28         NaN         NaN                  NaN           NaN\n",
       "2019-03-31         NaN         NaN                  NaN           NaN\n",
       "2019-04-30         NaN         NaN                  NaN           NaN\n",
       "2019-05-31         NaN         NaN                  NaN           NaN\n",
       "2019-06-30         NaN         NaN                  NaN           NaN\n",
       "2019-07-31         NaN         NaN                  NaN           NaN"
      ]
     },
     "execution_count": 23,
     "metadata": {},
     "output_type": "execute_result"
    }
   ],
   "source": [
    "future_df=pd.concat([monthly_sales, future_dates])\n",
    "future_df.tail(10)"
   ]
  },
  {
   "cell_type": "code",
   "execution_count": 24,
   "id": "acf325dd",
   "metadata": {
    "execution": {
     "iopub.execute_input": "2024-05-23T07:59:08.806765Z",
     "iopub.status.busy": "2024-05-23T07:59:08.806088Z",
     "iopub.status.idle": "2024-05-23T07:59:08.819553Z",
     "shell.execute_reply": "2024-05-23T07:59:08.818420Z"
    },
    "papermill": {
     "duration": 0.03389,
     "end_time": "2024-05-23T07:59:08.821728",
     "exception": false,
     "start_time": "2024-05-23T07:59:08.787838",
     "status": "completed"
    },
    "tags": []
   },
   "outputs": [
    {
     "data": {
      "text/plain": [
       "2019-01-31    57539.320545\n",
       "2019-02-28    57979.358575\n",
       "2019-03-31    73909.432517\n",
       "2019-04-30    59215.794339\n",
       "2019-05-31    66609.089917\n",
       "2019-06-30    58846.492436\n",
       "2019-07-31    62913.502776\n",
       "Freq: ME, Name: predicted_mean, dtype: float64"
      ]
     },
     "execution_count": 24,
     "metadata": {},
     "output_type": "execute_result"
    }
   ],
   "source": [
    "future_forecast = fitted_model.get_forecast(steps=7)\n",
    "forecast_values = future_forecast.predicted_mean\n",
    "forecast_values"
   ]
  },
  {
   "cell_type": "code",
   "execution_count": 25,
   "id": "04c11c1a",
   "metadata": {
    "execution": {
     "iopub.execute_input": "2024-05-23T07:59:08.857752Z",
     "iopub.status.busy": "2024-05-23T07:59:08.857122Z",
     "iopub.status.idle": "2024-05-23T07:59:08.872634Z",
     "shell.execute_reply": "2024-05-23T07:59:08.871529Z"
    },
    "papermill": {
     "duration": 0.036375,
     "end_time": "2024-05-23T07:59:08.875031",
     "exception": false,
     "start_time": "2024-05-23T07:59:08.838656",
     "status": "completed"
    },
    "tags": []
   },
   "outputs": [
    {
     "data": {
      "text/html": [
       "<div>\n",
       "<style scoped>\n",
       "    .dataframe tbody tr th:only-of-type {\n",
       "        vertical-align: middle;\n",
       "    }\n",
       "\n",
       "    .dataframe tbody tr th {\n",
       "        vertical-align: top;\n",
       "    }\n",
       "\n",
       "    .dataframe thead th {\n",
       "        text-align: right;\n",
       "    }\n",
       "</style>\n",
       "<table border=\"1\" class=\"dataframe\">\n",
       "  <thead>\n",
       "    <tr style=\"text-align: right;\">\n",
       "      <th></th>\n",
       "      <th>sales</th>\n",
       "      <th>first_diff</th>\n",
       "      <th>seasonal_first_diff</th>\n",
       "      <th>forecast</th>\n",
       "      <th>future_forecast</th>\n",
       "    </tr>\n",
       "  </thead>\n",
       "  <tbody>\n",
       "    <tr>\n",
       "      <th>2018-10-31</th>\n",
       "      <td>65501.1622</td>\n",
       "      <td>-7652.2018</td>\n",
       "      <td>13344.2042</td>\n",
       "      <td>52565.073235</td>\n",
       "      <td>NaN</td>\n",
       "    </tr>\n",
       "    <tr>\n",
       "      <th>2018-11-30</th>\n",
       "      <td>87997.6400</td>\n",
       "      <td>22496.4778</td>\n",
       "      <td>21605.0930</td>\n",
       "      <td>69500.029244</td>\n",
       "      <td>NaN</td>\n",
       "    </tr>\n",
       "    <tr>\n",
       "      <th>2018-12-31</th>\n",
       "      <td>56959.2358</td>\n",
       "      <td>-31038.4042</td>\n",
       "      <td>-15887.8497</td>\n",
       "      <td>71795.881286</td>\n",
       "      <td>NaN</td>\n",
       "    </tr>\n",
       "    <tr>\n",
       "      <th>2019-01-31</th>\n",
       "      <td>NaN</td>\n",
       "      <td>NaN</td>\n",
       "      <td>NaN</td>\n",
       "      <td>NaN</td>\n",
       "      <td>57539.320545</td>\n",
       "    </tr>\n",
       "    <tr>\n",
       "      <th>2019-02-28</th>\n",
       "      <td>NaN</td>\n",
       "      <td>NaN</td>\n",
       "      <td>NaN</td>\n",
       "      <td>NaN</td>\n",
       "      <td>57979.358575</td>\n",
       "    </tr>\n",
       "    <tr>\n",
       "      <th>2019-03-31</th>\n",
       "      <td>NaN</td>\n",
       "      <td>NaN</td>\n",
       "      <td>NaN</td>\n",
       "      <td>NaN</td>\n",
       "      <td>73909.432517</td>\n",
       "    </tr>\n",
       "    <tr>\n",
       "      <th>2019-04-30</th>\n",
       "      <td>NaN</td>\n",
       "      <td>NaN</td>\n",
       "      <td>NaN</td>\n",
       "      <td>NaN</td>\n",
       "      <td>59215.794339</td>\n",
       "    </tr>\n",
       "    <tr>\n",
       "      <th>2019-05-31</th>\n",
       "      <td>NaN</td>\n",
       "      <td>NaN</td>\n",
       "      <td>NaN</td>\n",
       "      <td>NaN</td>\n",
       "      <td>66609.089917</td>\n",
       "    </tr>\n",
       "    <tr>\n",
       "      <th>2019-06-30</th>\n",
       "      <td>NaN</td>\n",
       "      <td>NaN</td>\n",
       "      <td>NaN</td>\n",
       "      <td>NaN</td>\n",
       "      <td>58846.492436</td>\n",
       "    </tr>\n",
       "    <tr>\n",
       "      <th>2019-07-31</th>\n",
       "      <td>NaN</td>\n",
       "      <td>NaN</td>\n",
       "      <td>NaN</td>\n",
       "      <td>NaN</td>\n",
       "      <td>62913.502776</td>\n",
       "    </tr>\n",
       "  </tbody>\n",
       "</table>\n",
       "</div>"
      ],
      "text/plain": [
       "                 sales  first_diff  seasonal_first_diff      forecast  \\\n",
       "2018-10-31  65501.1622  -7652.2018           13344.2042  52565.073235   \n",
       "2018-11-30  87997.6400  22496.4778           21605.0930  69500.029244   \n",
       "2018-12-31  56959.2358 -31038.4042          -15887.8497  71795.881286   \n",
       "2019-01-31         NaN         NaN                  NaN           NaN   \n",
       "2019-02-28         NaN         NaN                  NaN           NaN   \n",
       "2019-03-31         NaN         NaN                  NaN           NaN   \n",
       "2019-04-30         NaN         NaN                  NaN           NaN   \n",
       "2019-05-31         NaN         NaN                  NaN           NaN   \n",
       "2019-06-30         NaN         NaN                  NaN           NaN   \n",
       "2019-07-31         NaN         NaN                  NaN           NaN   \n",
       "\n",
       "            future_forecast  \n",
       "2018-10-31              NaN  \n",
       "2018-11-30              NaN  \n",
       "2018-12-31              NaN  \n",
       "2019-01-31     57539.320545  \n",
       "2019-02-28     57979.358575  \n",
       "2019-03-31     73909.432517  \n",
       "2019-04-30     59215.794339  \n",
       "2019-05-31     66609.089917  \n",
       "2019-06-30     58846.492436  \n",
       "2019-07-31     62913.502776  "
      ]
     },
     "execution_count": 25,
     "metadata": {},
     "output_type": "execute_result"
    }
   ],
   "source": [
    "future_df['future_forecast']=forecast_values\n",
    "future_df.tail(10)"
   ]
  },
  {
   "cell_type": "code",
   "execution_count": 26,
   "id": "92f583d0",
   "metadata": {
    "execution": {
     "iopub.execute_input": "2024-05-23T07:59:08.911322Z",
     "iopub.status.busy": "2024-05-23T07:59:08.910648Z",
     "iopub.status.idle": "2024-05-23T07:59:09.257522Z",
     "shell.execute_reply": "2024-05-23T07:59:09.256426Z"
    },
    "papermill": {
     "duration": 0.368254,
     "end_time": "2024-05-23T07:59:09.260538",
     "exception": false,
     "start_time": "2024-05-23T07:59:08.892284",
     "status": "completed"
    },
    "tags": []
   },
   "outputs": [
    {
     "data": {
      "text/plain": [
       "<Axes: >"
      ]
     },
     "execution_count": 26,
     "metadata": {},
     "output_type": "execute_result"
    },
    {
     "data": {
      "image/png": "[encoded data removed]",
      "text/plain": [
       "<Figure size 1200x500 with 1 Axes>"
      ]
     },
     "metadata": {},
     "output_type": "display_data"
    }
   ],
   "source": [
    "future_df[['sales', 'future_forecast']].plot(figsize=(12, 5))"
   ]
  }
 ],
 "metadata": {
  "kaggle": {
   "accelerator": "none",
   "dataSources": [
    {
     "datasetId": 835308,
     "sourceId": 1480443,
     "sourceType": "datasetVersion"
    }
   ],
   "dockerImageVersionId": 30698,
   "isGpuEnabled": false,
   "isInternetEnabled": true,
   "language": "python",
   "sourceType": "notebook"
  },
  "kernelspec": {
   "display_name": "Python 3",
   "language": "python",
   "name": "python3"
  },
  "language_info": {
   "codemirror_mode": {
    "name": "ipython",
    "version": 3
   },
   "file_extension": ".py",
   "mimetype": "text/x-python",
   "name": "python",
   "nbconvert_exporter": "python",
   "pygments_lexer": "ipython3",
   "version": "3.10.13"
  },
  "papermill": {
   "default_parameters": {},
   "duration": 15.890478,
   "end_time": "2024-05-23T07:59:09.900300",
   "environment_variables": {},
   "exception": null,
   "input_path": "__notebook__.ipynb",
   "output_path": "__notebook__.ipynb",
   "parameters": {},
   "start_time": "2024-05-23T07:58:54.009822",
   "version": "2.5.0"
  }
 },
 "nbformat": 4,
 "nbformat_minor": 5
}
